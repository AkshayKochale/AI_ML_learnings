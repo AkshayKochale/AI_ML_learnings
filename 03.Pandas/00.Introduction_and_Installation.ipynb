{
 "cells": [
  {
   "cell_type": "markdown",
   "id": "a1089f64",
   "metadata": {},
   "source": [
    "# Introduction to Pandas\n",
    "\n",
    "**Pandas** is a powerful and easy-to-use open-source data analysis and manipulation tool built on top of the Python programming language. It is widely used in data science, machine learning, and data engineering.Built on top of numpy.\n",
    "\n",
    "## Key Features\n",
    "\n",
    "- Fast and efficient DataFrame object for data manipulation\n",
    "- Tools for reading and writing data between in-memory data structures and different formats (CSV, Excel, SQL, etc.)\n",
    "- Handling of missing data\n",
    "- Data alignment and integrated handling of time series data\n",
    "- Powerful group by functionality for data aggregation and transformation\n"
   ]
  },
  {
   "cell_type": "markdown",
   "id": "be4de157",
   "metadata": {},
   "source": [
    "\n",
    "# Installation\n",
    "\n",
    " - Install python3 or above\n",
    " - Create virtual environment (venv)\n",
    " - run \"pip install pandas\""
   ]
  },
  {
   "cell_type": "code",
   "execution_count": 2,
   "id": "1555b95d",
   "metadata": {},
   "outputs": [
    {
     "name": "stdout",
     "output_type": "stream",
     "text": [
      "0    1\n",
      "1    3\n",
      "2    4\n",
      "3    5\n",
      "dtype: int64\n"
     ]
    }
   ],
   "source": [
    "# Use\n",
    "\n",
    "import pandas as pd\n",
    "\n",
    "\n",
    "series=pd.Series([1,3,4,5])\n",
    "print(series)"
   ]
  }
 ],
 "metadata": {
  "kernelspec": {
   "display_name": "pandasEnv",
   "language": "python",
   "name": "python3"
  },
  "language_info": {
   "codemirror_mode": {
    "name": "ipython",
    "version": 3
   },
   "file_extension": ".py",
   "mimetype": "text/x-python",
   "name": "python",
   "nbconvert_exporter": "python",
   "pygments_lexer": "ipython3",
   "version": "3.14.0"
  }
 },
 "nbformat": 4,
 "nbformat_minor": 5
}
