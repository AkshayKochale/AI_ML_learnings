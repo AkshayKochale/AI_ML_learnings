{
 "cells": [
  {
   "cell_type": "markdown",
   "id": "1a0aee83",
   "metadata": {},
   "source": [
    "# Nan handling\n",
    "\n",
    "- Mostly when you get dataset or you perform some merge operation on data, you get Nan values \n",
    "- It is important to handle this values, as we want our data be clean and ready to consume\n",
    "- e.g. When you are taking avg of one col, Nan values will make calculation difficult"
   ]
  },
  {
   "cell_type": "code",
   "execution_count": 36,
   "id": "389dab84",
   "metadata": {},
   "outputs": [
    {
     "name": "stdout",
     "output_type": "stream",
     "text": [
      "    id location subject\n",
      "0  id3     Pune    Java\n",
      "1  id1   Mumbai  Python\n",
      "2  id2    Delhi    Rust\n",
      "3  id5      NaN    Java\n",
      "4  id4      NaN     C++\n",
      "5  id6      NaN  Python\n"
     ]
    }
   ],
   "source": [
    "import pandas as pd\n",
    "\n",
    "locationData=pd.DataFrame({\n",
    "     'id' : ['id1','id2','id3'],\n",
    "     'location' :['Mumbai','Delhi','Pune']\n",
    "})\n",
    "\n",
    "subjectData=pd.DataFrame({\n",
    "     'id' : ['id3','id1','id2','id5','id4','id6'],\n",
    "     'subject' :['Java','Python','Rust','Java','C++','Python']\n",
    "})\n",
    "\n",
    "result=pd.merge(locationData,subjectData,how=\"right\",on='id')\n",
    "print(result)"
   ]
  },
  {
   "cell_type": "code",
   "execution_count": 37,
   "id": "f907d871",
   "metadata": {},
   "outputs": [
    {
     "data": {
      "text/plain": [
       "id          0\n",
       "location    3\n",
       "subject     0\n",
       "dtype: int64"
      ]
     },
     "execution_count": 37,
     "metadata": {},
     "output_type": "execute_result"
    }
   ],
   "source": [
    "result.isna()    # this will give same size of data (n*m) mentioning if true or false based on Nan value in cell\n",
    "\n",
    "# similary result.notna() is opposite of this method\n",
    "\n",
    "result.isna().sum()   # gives description of how many nulls in each col\n"
   ]
  },
  {
   "cell_type": "code",
   "execution_count": 39,
   "id": "23727c62",
   "metadata": {},
   "outputs": [
    {
     "name": "stdout",
     "output_type": "stream",
     "text": [
      "    id location subject\n",
      "0  id3     Pune    Java\n",
      "1  id1   Mumbai  Python\n",
      "2  id2    Delhi    Rust\n",
      "3  id5   NotAva    Java\n",
      "4  id4   NotAva     C++\n",
      "5  id6   NotAva  Python\n"
     ]
    }
   ],
   "source": [
    "# to fill all the nan value with default value we can use .fillna('value')\n",
    "\n",
    "# result = result.fillna(0)  # fills all nan in dataframe\n",
    "result['location']=result['location'].fillna('NotAva')\n",
    "\n",
    "print(result)"
   ]
  }
 ],
 "metadata": {
  "kernelspec": {
   "display_name": "pandasEnv",
   "language": "python",
   "name": "python3"
  },
  "language_info": {
   "codemirror_mode": {
    "name": "ipython",
    "version": 3
   },
   "file_extension": ".py",
   "mimetype": "text/x-python",
   "name": "python",
   "nbconvert_exporter": "python",
   "pygments_lexer": "ipython3",
   "version": "3.14.0"
  }
 },
 "nbformat": 4,
 "nbformat_minor": 5
}
