{
 "cells": [
  {
   "cell_type": "markdown",
   "id": "30bf6799",
   "metadata": {},
   "source": [
    "# Combine mulitple dataframes\n",
    "\n",
    "- similar to sql we can combine two or more dataframe togther to get output \n",
    "- merge, join are possible on dataframe\n"
   ]
  },
  {
   "cell_type": "code",
   "execution_count": 12,
   "id": "8b2c0b96",
   "metadata": {},
   "outputs": [],
   "source": [
    "import pandas as pd\n",
    "\n",
    "locationData=pd.DataFrame({\n",
    "     'id' : ['id1','id2','id3','id4','id5'],\n",
    "     'location' :['Mumbai','Delhi','Pune','Mumbai','Chennai']\n",
    "})\n",
    "\n",
    "subjectData=pd.DataFrame({\n",
    "     'id' : ['id3','id1','id2','id5','id4','id6'],\n",
    "     'subject' :['Java','Python','Rust','Java','C++','Python']\n",
    "})"
   ]
  },
  {
   "cell_type": "code",
   "execution_count": null,
   "id": "f0edfcea",
   "metadata": {},
   "outputs": [
    {
     "name": "stdout",
     "output_type": "stream",
     "text": [
      "    id location subject\n",
      "0  id1   Mumbai  Python\n",
      "1  id2    Delhi    Rust\n",
      "2  id3     Pune    Java\n",
      "3  id4   Mumbai     C++\n",
      "4  id5  Chennai    Java\n"
     ]
    }
   ],
   "source": [
    "\n",
    "# To combine multiple dataframes together we have use .merge(df1,df2,how,on) how= what type of join, on=based on which col\n",
    "# Note : if common col names are diff in both df then we can pass left.on='col1' and right.on='col2'\n",
    "# types of join -  inner ,outer ,left, right\n",
    "\n",
    "# 1. inner \n",
    "innerMerge=pd.merge(locationData,subjectData,how='inner',on='id') \n",
    "print(innerMerge)\n"
   ]
  },
  {
   "cell_type": "code",
   "execution_count": 14,
   "id": "09105c29",
   "metadata": {},
   "outputs": [
    {
     "name": "stdout",
     "output_type": "stream",
     "text": [
      "    id location subject\n",
      "0  id1   Mumbai  Python\n",
      "1  id2    Delhi    Rust\n",
      "2  id3     Pune    Java\n",
      "3  id4   Mumbai     C++\n",
      "4  id5  Chennai    Java\n"
     ]
    }
   ],
   "source": [
    "\n",
    "# 2. left \n",
    "leftMerge=pd.merge(locationData,subjectData,how='left',on='id') \n",
    "print(leftMerge)"
   ]
  },
  {
   "cell_type": "code",
   "execution_count": 15,
   "id": "d6aff74c",
   "metadata": {},
   "outputs": [
    {
     "name": "stdout",
     "output_type": "stream",
     "text": [
      "    id location subject\n",
      "0  id3     Pune    Java\n",
      "1  id1   Mumbai  Python\n",
      "2  id2    Delhi    Rust\n",
      "3  id5  Chennai    Java\n",
      "4  id4   Mumbai     C++\n",
      "5  id6      NaN  Python\n"
     ]
    }
   ],
   "source": [
    "\n",
    "# 3. right \n",
    "rightMerge=pd.merge(locationData,subjectData,how='right',on='id') \n",
    "print(rightMerge)"
   ]
  },
  {
   "cell_type": "code",
   "execution_count": 18,
   "id": "ff1bcd52",
   "metadata": {},
   "outputs": [
    {
     "data": {
      "text/html": [
       "<div>\n",
       "<style scoped>\n",
       "    .dataframe tbody tr th:only-of-type {\n",
       "        vertical-align: middle;\n",
       "    }\n",
       "\n",
       "    .dataframe tbody tr th {\n",
       "        vertical-align: top;\n",
       "    }\n",
       "\n",
       "    .dataframe thead th {\n",
       "        text-align: right;\n",
       "    }\n",
       "</style>\n",
       "<table border=\"1\" class=\"dataframe\">\n",
       "  <thead>\n",
       "    <tr style=\"text-align: right;\">\n",
       "      <th></th>\n",
       "      <th>id</th>\n",
       "      <th>location</th>\n",
       "      <th>id</th>\n",
       "      <th>subject</th>\n",
       "    </tr>\n",
       "  </thead>\n",
       "  <tbody>\n",
       "    <tr>\n",
       "      <th>0</th>\n",
       "      <td>id1</td>\n",
       "      <td>Mumbai</td>\n",
       "      <td>id3</td>\n",
       "      <td>Java</td>\n",
       "    </tr>\n",
       "    <tr>\n",
       "      <th>1</th>\n",
       "      <td>id2</td>\n",
       "      <td>Delhi</td>\n",
       "      <td>id1</td>\n",
       "      <td>Python</td>\n",
       "    </tr>\n",
       "    <tr>\n",
       "      <th>2</th>\n",
       "      <td>id3</td>\n",
       "      <td>Pune</td>\n",
       "      <td>id2</td>\n",
       "      <td>Rust</td>\n",
       "    </tr>\n",
       "    <tr>\n",
       "      <th>3</th>\n",
       "      <td>id4</td>\n",
       "      <td>Mumbai</td>\n",
       "      <td>id5</td>\n",
       "      <td>Java</td>\n",
       "    </tr>\n",
       "    <tr>\n",
       "      <th>4</th>\n",
       "      <td>id5</td>\n",
       "      <td>Chennai</td>\n",
       "      <td>id4</td>\n",
       "      <td>C++</td>\n",
       "    </tr>\n",
       "    <tr>\n",
       "      <th>5</th>\n",
       "      <td>NaN</td>\n",
       "      <td>NaN</td>\n",
       "      <td>id6</td>\n",
       "      <td>Python</td>\n",
       "    </tr>\n",
       "  </tbody>\n",
       "</table>\n",
       "</div>"
      ],
      "text/plain": [
       "    id location   id subject\n",
       "0  id1   Mumbai  id3    Java\n",
       "1  id2    Delhi  id1  Python\n",
       "2  id3     Pune  id2    Rust\n",
       "3  id4   Mumbai  id5    Java\n",
       "4  id5  Chennai  id4     C++\n",
       "5  NaN      NaN  id6  Python"
      ]
     },
     "execution_count": 18,
     "metadata": {},
     "output_type": "execute_result"
    }
   ],
   "source": [
    "\n",
    "# Also we can use concate() to add multiple df.(either row or col)\n",
    "# pass axis to concat row or col wise (default is col axis=0)\n",
    "concated_df=pd.concat([locationData,subjectData],axis=1)\n",
    "concated_df"
   ]
  },
  {
   "cell_type": "code",
   "execution_count": null,
   "id": "ed7bb68a",
   "metadata": {},
   "outputs": [
    {
     "name": "stdout",
     "output_type": "stream",
     "text": [
      "         id  location  id\n",
      "subject                  \n",
      "C++       1         1   1\n",
      "Java      2         2   2\n",
      "Python    1         1   2\n",
      "Rust      1         1   1\n"
     ]
    }
   ],
   "source": [
    "# Group by -> simialr to group by in sql , also few function are available to peroform operation on groupby data\n",
    "\n",
    "groupBy=concated_df.groupby('subject').count()\n",
    "print(groupBy)\n"
   ]
  }
 ],
 "metadata": {
  "kernelspec": {
   "display_name": "pandasEnv",
   "language": "python",
   "name": "python3"
  },
  "language_info": {
   "codemirror_mode": {
    "name": "ipython",
    "version": 3
   },
   "file_extension": ".py",
   "mimetype": "text/x-python",
   "name": "python",
   "nbconvert_exporter": "python",
   "pygments_lexer": "ipython3",
   "version": "3.14.0"
  }
 },
 "nbformat": 4,
 "nbformat_minor": 5
}
