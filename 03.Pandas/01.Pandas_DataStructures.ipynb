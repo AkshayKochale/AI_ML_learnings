{
 "cells": [
  {
   "cell_type": "markdown",
   "id": "6bac8e9e",
   "metadata": {},
   "source": [
    "# Data Structure\n",
    "\n",
    "- Pandas provide some data structure which make working with data easy and performs optimized operations\n",
    "\n",
    "- Mainly there are two Series and DataFrame which resembles to list and 2d array respectively, but internally these are made efficient hence suitable for machine learning and AI\n",
    "\n",
    "- Whole pandas is basically working with these two datastructure and learning methods and operation on it."
   ]
  },
  {
   "cell_type": "code",
   "execution_count": 10,
   "id": "0eb02503",
   "metadata": {},
   "outputs": [],
   "source": [
    "import pandas as pd\n",
    "\n",
    "tempList=[1,2,7,4,5]\n",
    "\n",
    "\n",
    "def line(char='-', length=40):\n",
    "    print(char * length)\n",
    "\n",
    "\n"
   ]
  },
  {
   "cell_type": "code",
   "execution_count": null,
   "id": "9c8ee0a9",
   "metadata": {},
   "outputs": [
    {
     "name": "stdout",
     "output_type": "stream",
     "text": [
      "0    1\n",
      "1    2\n",
      "2    7\n",
      "3    4\n",
      "4    5\n",
      "dtype: int64\n",
      "----------------------------------------\n",
      "a    1\n",
      "b    2\n",
      "c    7\n",
      "d    4\n",
      "e    5\n",
      "dtype: int64\n",
      "----------------------------------------\n",
      "a    1\n",
      "b    2\n",
      "d    4\n",
      "e    5\n",
      "c    7\n",
      "dtype: int64\n"
     ]
    }
   ],
   "source": [
    " # 1. Series\n",
    "\n",
    "series= pd.Series(tempList)   # we can also create direct list inside function \n",
    "print(series)    # this will print series data with index also \n",
    "\n",
    "line()  # output seperator\n",
    "\n",
    "index=['a','b','c','d','e']  # python list which will act as index \n",
    "series= pd.Series(tempList,index) # we can set custom index instead of 0-n , useful when accessing data using pandas lib function\n",
    "print(series) \n",
    "\n",
    "line() \n",
    "\n",
    "#Most of functions are similar to numpy functions\n",
    "print(series.sort_values())\n"
   ]
  },
  {
   "cell_type": "code",
   "execution_count": 19,
   "id": "b3c49ea3",
   "metadata": {},
   "outputs": [
    {
     "name": "stdout",
     "output_type": "stream",
     "text": [
      "   0  1  2\n",
      "0  1  2  3\n",
      "1  4  5  6\n",
      "----------------------------------------\n",
      "     0    1    2\n",
      "0  abc    2  xyz\n",
      "1    4  pqr    8\n",
      "2    9    0    0\n",
      "----------------------------------------\n",
      "     c1   c2   c3\n",
      "r1  abc    2  xyz\n",
      "r2    4  pqr    8\n",
      "r3    9    0    0\n"
     ]
    }
   ],
   "source": [
    "# 2.Dataframe -> simialr to 2d/Tensor array but allow diff datatypes at once ,and more optimized\n",
    "\n",
    "dataframe_int=pd.DataFrame([[1,2,3],[4,5,6]])\n",
    "print(dataframe_int) \n",
    "\n",
    "line()\n",
    "dataframe_mix=pd.DataFrame([[\"abc\",2,\"xyz\"],[4,\"pqr\",8],[9,0,0]])\n",
    "print(dataframe_mix)\n",
    "\n",
    "line()\n",
    "index =['r1','r2','r3']\n",
    "col =['c1','c2','c3']\n",
    "dataframe_mix_withCustomIndex=pd.DataFrame([[\"abc\",2,\"xyz\"],[4,\"pqr\",8],[9,0,0]],index=index,columns=col)\n",
    "print(dataframe_mix_withCustomIndex)\n"
   ]
  }
 ],
 "metadata": {
  "kernelspec": {
   "display_name": "pandasEnv",
   "language": "python",
   "name": "python3"
  },
  "language_info": {
   "codemirror_mode": {
    "name": "ipython",
    "version": 3
   },
   "file_extension": ".py",
   "mimetype": "text/x-python",
   "name": "python",
   "nbconvert_exporter": "python",
   "pygments_lexer": "ipython3",
   "version": "3.14.0"
  }
 },
 "nbformat": 4,
 "nbformat_minor": 5
}
