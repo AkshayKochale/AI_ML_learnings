{
 "cells": [
  {
   "cell_type": "markdown",
   "id": "2d4b7242",
   "metadata": {},
   "source": [
    "# Masking, Filtering & Expression passing \n"
   ]
  },
  {
   "cell_type": "code",
   "execution_count": 10,
   "id": "21faa629",
   "metadata": {},
   "outputs": [
    {
     "name": "stdout",
     "output_type": "stream",
     "text": [
      "[4 5]\n",
      "[0 1 2 3 4]\n"
     ]
    }
   ],
   "source": [
    "import numpy as np\n",
    "\n",
    "\n",
    "a = np.array([1, 2, 3, 4, 5])\n",
    "\n",
    "mask = a > 3    # filter expression\n",
    "temp=a[mask]\n",
    "print(temp)  # [4, 5]\n",
    "\n",
    "\n",
    "# create array by passing expression\n",
    "b= np.array([x for x in range(5)])\n",
    "print(b)\n",
    "\n",
    "\n"
   ]
  }
 ],
 "metadata": {
  "kernelspec": {
   "display_name": "numEnv",
   "language": "python",
   "name": "python3"
  },
  "language_info": {
   "codemirror_mode": {
    "name": "ipython",
    "version": 3
   },
   "file_extension": ".py",
   "mimetype": "text/x-python",
   "name": "python",
   "nbconvert_exporter": "python",
   "pygments_lexer": "ipython3",
   "version": "3.14.0"
  }
 },
 "nbformat": 4,
 "nbformat_minor": 5
}
