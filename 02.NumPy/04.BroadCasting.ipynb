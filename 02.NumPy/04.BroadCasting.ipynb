{
 "cells": [
  {
   "cell_type": "markdown",
   "id": "218f13be",
   "metadata": {},
   "source": [
    "# BROADCASTING \n",
    "\n",
    "- Broadcasting allows NumPy to perform element-wise operations on arrays of different shapes without explicitly copying data.\n",
    "- Instead of manually reshaping or looping, NumPy automatically expands the smaller array to match the shape of the larger one without actually copying data.\n",
    "\n",
    "\n",
    "When operating on two arrays, NumPy compares their shapes element-wise from the trailing dimensions. Two dimensions are compatible when:\n",
    "\n",
    "- They are equal, or\n",
    "- One of them is 1\n",
    "\n",
    "If the shapes are not compatible, NumPy throws a ValueError."
   ]
  },
  {
   "cell_type": "code",
   "execution_count": 1,
   "id": "18eff16f",
   "metadata": {},
   "outputs": [
    {
     "name": "stdout",
     "output_type": "stream",
     "text": [
      "[11 12 13]\n"
     ]
    }
   ],
   "source": [
    "\n",
    "import numpy as np\n",
    "\n",
    "a = np.array([1, 2, 3])\n",
    "b = 10\n",
    "\n",
    "print(a + b)  # [11 12 13]\n"
   ]
  },
  {
   "cell_type": "code",
   "execution_count": 2,
   "id": "e36ce402",
   "metadata": {},
   "outputs": [
    {
     "name": "stdout",
     "output_type": "stream",
     "text": [
      "[[11 22 33]\n",
      " [14 25 36]]\n"
     ]
    }
   ],
   "source": [
    "\n",
    "a = np.array([[1, 2, 3],\n",
    "              [4, 5, 6]])\n",
    "\n",
    "b = np.array([10, 20, 30])\n",
    "\n",
    "print(a + b)\n"
   ]
  },
  {
   "cell_type": "markdown",
   "id": "802b551d",
   "metadata": {},
   "source": [
    "## why?\n",
    "\n",
    "- No loops → faster execution\n",
    "- Less memory usage → avoids unnecessary copies\n",
    "- Cleaner code → more readable and concise"
   ]
  }
 ],
 "metadata": {
  "kernelspec": {
   "display_name": "numEnv",
   "language": "python",
   "name": "python3"
  },
  "language_info": {
   "codemirror_mode": {
    "name": "ipython",
    "version": 3
   },
   "file_extension": ".py",
   "mimetype": "text/x-python",
   "name": "python",
   "nbconvert_exporter": "python",
   "pygments_lexer": "ipython3",
   "version": "3.14.0"
  }
 },
 "nbformat": 4,
 "nbformat_minor": 5
}
