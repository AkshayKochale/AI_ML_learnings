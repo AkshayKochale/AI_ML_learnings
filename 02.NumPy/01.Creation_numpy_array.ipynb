{
 "cells": [
  {
   "cell_type": "markdown",
   "id": "2aa80556",
   "metadata": {},
   "source": [
    "# NumPy list/arrays\n",
    "\n",
    "\n",
    "## Why numpy array are different from python list?\n",
    "\n",
    "| Feature               | Python List                                      | NumPy Array                                           |\n",
    "|-----------------------|--------------------------------------------------|--------------------------------------------------------|\n",
    "| **Data Type**         | Can store mixed data types                       | Homogeneous – all elements must be of the same type    |\n",
    "| **Performance**       | Slower for numerical operations                  | Faster due to optimized C implementation               |\n",
    "| **Memory Usage**      | Higher memory usage                              | More memory-efficient                                  |\n",
    "| **Functionality**     | Basic operations (append, remove, etc.)          | Rich set of mathematical and statistical operations    |\n",
    "| **Indexing**          | Basic indexing and slicing                       | Advanced indexing, slicing, and broadcasting           |\n",
    "| **Vectorized Ops**    | Not supported; requires loops                    | Fully supports vectorized operations                   |\n",
    "| **Convenience**       | Flexible for general-purpose programming         | Ideal for numerical and matrix computations            |\n",
    "| **Use Case**          | General-purpose container                        | Scientific computing, data analysis, machine learning  |\n",
    "\n"
   ]
  },
  {
   "cell_type": "code",
   "execution_count": 18,
   "id": "596b2b5a",
   "metadata": {},
   "outputs": [
    {
     "name": "stdout",
     "output_type": "stream",
     "text": [
      "<class 'list'> [1, 2, 3, 4, 5, 6]\n",
      "<class 'numpy.ndarray'> [1 2 3 4 5 6]\n"
     ]
    }
   ],
   "source": [
    "import numpy as np\n",
    "\n",
    "#creating basic numpy array\n",
    "\n",
    "python_list = [1,2,3,4,5,6]\n",
    "np_array = np.array([1,2,3,4,5,6])\n",
    "\n",
    "print(type(python_list),python_list)   # <class 'list'> [1, 2, 3, 4, 5, 6]\n",
    "print(type(np_array),np_array) # <class 'numpy.ndarray'> [1 2 3 4 5 6]"
   ]
  },
  {
   "cell_type": "code",
   "execution_count": 19,
   "id": "fe63cca2",
   "metadata": {},
   "outputs": [
    {
     "name": "stdout",
     "output_type": "stream",
     "text": [
      "<class 'numpy.ndarray'> [[1 2 3]\n",
      " [4 5 6]]\n",
      "<class 'numpy.ndarray'> [[[1 2]\n",
      "  [2 3]]\n",
      "\n",
      " [[3 4]\n",
      "  [1 3]]]\n"
     ]
    }
   ],
   "source": [
    "\n",
    "# 2d Array\n",
    "np_2DArr=np.array([[1,2,3],[4,5,6]])\n",
    "print(type(np_array),np_2DArr)   # <class 'numpy.ndarray'> [[1 2 3][4 5 6]]\n",
    "\n",
    "# Multi-diamensiona array\n",
    "np_multiDiamArr=np.array([[[1,2],[2,3]],[[3,4],[1,3]]])\n",
    "print(type(np_multiDiamArr),np_multiDiamArr) # <class 'numpy.ndarray'>  [[[1,2],[2,3]],[[3,4],[1,3]]]\n",
    "\n"
   ]
  },
  {
   "cell_type": "code",
   "execution_count": 22,
   "id": "57ae2741",
   "metadata": {},
   "outputs": [
    {
     "name": "stdout",
     "output_type": "stream",
     "text": [
      "[[0. 0. 0. 0.]\n",
      " [0. 0. 0. 0.]]\n",
      "[[1. 1.]\n",
      " [1. 1.]\n",
      " [1. 1.]]\n",
      "[[7 7 7]\n",
      " [7 7 7]\n",
      " [7 7 7]]\n",
      "[[0 0 0]\n",
      " [0 0 0]]\n",
      "[['-' '-']\n",
      " ['-' '-']\n",
      " ['-' '-']]\n",
      "[[0. 0.]\n",
      " [0. 0.]]\n"
     ]
    }
   ],
   "source": [
    "\n",
    "# creating array with specific value only (Arrays.fill() in java)\n",
    "\n",
    "np_array_zeros=np.zeros((2,4))   # we have to pass tuple (r,c) -> total numeber of row and columns \n",
    "print(np_array_zeros)    # [[0,0,0,0],[0,0,0,0]] -> all 2d array filled with zero (but type is float so you will see .)\n",
    "\n",
    "np_array_ones= np.ones((3,2))\n",
    "print(np_array_ones)    # [[1,1],[1,1],[1,1]]\n",
    "\n",
    "np_array_any =np.full((3,3),7)     # crate 3*3 array with all value as 7\n",
    "print(np_array_any)\n",
    "\n",
    "# By deafult data type is float for ones and zeros we can manage that by passing dtype=int\n",
    "np_arr_zero_int=np.zeros((2,3),dtype=int)\n",
    "print(np_arr_zero_int)\n",
    "\n",
    "# similarly if we want specific type of data in matrix we can set it using dtype=x , where x is datatype\n",
    "np_arr_string=np.full((3,2),\"-\")\n",
    "print(np_arr_string)\n",
    "\n",
    "np_empty_arr=np.empty((2, 2))  # non empty array default value is 0\n",
    "print(np_empty_arr)"
   ]
  },
  {
   "cell_type": "code",
   "execution_count": 27,
   "id": "ccf60742",
   "metadata": {},
   "outputs": [
    {
     "name": "stdout",
     "output_type": "stream",
     "text": [
      "[[1. 0. 0.]\n",
      " [0. 1. 0.]\n",
      " [0. 0. 1.]]\n"
     ]
    }
   ],
   "source": [
    "\n",
    "# An identity matrix is a square matrix with ones on the main diagonal (from the top-left to the bottom-right) and zeros everywhere else\n",
    "# This identity matrix is used to solve some liner equation and used in Matrix Multiplication Identity.\n",
    "# Just understand what is does application will be used later in math notes.\n",
    "np_identity_matrix=np.eye(3)\n",
    "print(np_identity_matrix)"
   ]
  },
  {
   "cell_type": "code",
   "execution_count": null,
   "id": "419a46a1",
   "metadata": {},
   "outputs": [
    {
     "name": "stdout",
     "output_type": "stream",
     "text": [
      "[ 1  3  5  7  9 11 13]\n"
     ]
    }
   ],
   "source": [
    "\n",
    "# Create array between range \n",
    "\n",
    "np_range_arr=np.arange(1,15,2)  # create array from range (start ,end(excluding) , jump/skip)   \n",
    "print(np_range_arr)             # [ 1  3  5  7  9 11 13] "
   ]
  },
  {
   "cell_type": "code",
   "execution_count": null,
   "id": "18cedc09",
   "metadata": {},
   "outputs": [
    {
     "name": "stdout",
     "output_type": "stream",
     "text": [
      "[ 0.          1.11111111  2.22222222  3.33333333  4.44444444  5.55555556\n",
      "  6.66666667  7.77777778  8.88888889 10.        ]\n"
     ]
    }
   ],
   "source": [
    "np_divide_with_even_space=np.linspace(0,10,10)    # (start, end ,total number of elements) -> divide the range evenly\n",
    "print(np_divide_with_even_space)   # (s,e,t) -> will create t numbers between s to e (inclusive) with even space between each element"
   ]
  },
  {
   "cell_type": "code",
   "execution_count": null,
   "id": "21ead45d",
   "metadata": {},
   "outputs": [
    {
     "name": "stdout",
     "output_type": "stream",
     "text": [
      "[[0 9]\n",
      " [4 0]\n",
      " [1 4]]\n"
     ]
    }
   ],
   "source": [
    "# There is class called random in numpy package which helps to create n*m array with random values\n",
    "#  np.random.randint(start,end,(n,m))  \n",
    "np_random_arr=np.random.randint(0,10,(3,2))\n",
    "print(np_random_arr)\n",
    "\n",
    "# to create random n*m array of diff datatype some logic should be implemented \n",
    "# also we can have random array based on customization and use 'np.array([logic()])' to create array "
   ]
  }
 ],
 "metadata": {
  "kernelspec": {
   "display_name": "numEnv",
   "language": "python",
   "name": "python3"
  },
  "language_info": {
   "codemirror_mode": {
    "name": "ipython",
    "version": 3
   },
   "file_extension": ".py",
   "mimetype": "text/x-python",
   "name": "python",
   "nbconvert_exporter": "python",
   "pygments_lexer": "ipython3",
   "version": "3.14.0"
  }
 },
 "nbformat": 4,
 "nbformat_minor": 5
}
