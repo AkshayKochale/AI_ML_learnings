{
 "cells": [
  {
   "cell_type": "markdown",
   "id": "7aad20f4",
   "metadata": {},
   "source": [
    " ## Some important attributes and methods of numpy array"
   ]
  },
  {
   "cell_type": "code",
   "execution_count": 36,
   "id": "1e1f319c",
   "metadata": {},
   "outputs": [],
   "source": [
    "import numpy as np\n",
    "\n",
    "\n",
    "# creating some numpy arrays for later use \n",
    "\n",
    "# Note: we can only create uniform array like i.e. each row will have same columns \n",
    "# [\n",
    "#  [1,3,4],\n",
    "#  [2,4]\n",
    "# ]\n",
    "# this is not allowed is numpy array\n",
    "\n",
    "# 1D array\n",
    "np_array = np.array([1,2,3,4,5,6])\n",
    "\n",
    "# 2D array\n",
    "np_2d_int_array = np.array([[2,3],[1,3],[4,5]])\n",
    "np_2d_str_array = np.array([[\"1\",\"3\",\"4\"],[\"4\",\"5\",\"0\"],[\"4\",\"5\",\"7\"]])\n",
    "\n",
    "# Multi-dimensional array\n",
    "np_mutiDim_array=np.array([[[1,2],[3,4]],[[7,9],[2,6]]])\n",
    "\n"
   ]
  },
  {
   "cell_type": "code",
   "execution_count": 37,
   "id": "5ce4a8b1",
   "metadata": {},
   "outputs": [
    {
     "name": "stdout",
     "output_type": "stream",
     "text": [
      "1\n",
      "2\n",
      "3\n",
      "(6,)\n",
      "(3, 2)\n",
      "(2, 2, 2)\n",
      "6\n",
      "6\n",
      "8\n",
      "int64\n",
      "<U1\n",
      "int64\n",
      "[[2 1 4]\n",
      " [3 3 5]]\n"
     ]
    }
   ],
   "source": [
    "# Some important attributes of array\n",
    "\n",
    "\n",
    "# 1. Diamension of array -> check if its array, matrix or tensor \n",
    "print(np_array.ndim)   # 1\n",
    "print(np_2d_int_array.ndim)  # 2\n",
    "print(np_mutiDim_array.ndim) # 3\n",
    "\n",
    "# 2. Shape of array -> what are rows and columns of array \n",
    "print(np_array.shape)   # (5,)\n",
    "print(np_2d_int_array.shape)  # (3,2)\n",
    "print(np_mutiDim_array.shape) # (2,2,2)\n",
    "\n",
    "# 3. Size of elements \n",
    "print(np_array.size)   # 6\n",
    "print(np_2d_int_array.size)  # 6\n",
    "print(np_mutiDim_array.size) # 8\n",
    "\n",
    "# 4.dtype -> data type of elements\n",
    "print(np_array.dtype)   # int64\n",
    "print(np_2d_str_array.dtype)  # <U1 (String)\n",
    "print(np_mutiDim_array.dtype) # int64\n",
    "\n",
    "# 5. Transpose matrix -> make all rows as column and all columns as rows (used in matrix calculation)\n",
    "print(np_2d_int_array.T)  # [[2 1 4][3 3 5]]\n",
    "\n",
    "\n"
   ]
  },
  {
   "cell_type": "code",
   "execution_count": null,
   "id": "ca5948d3",
   "metadata": {},
   "outputs": [
    {
     "name": "stdout",
     "output_type": "stream",
     "text": [
      "[[1 2 3]\n",
      " [4 5 6]]\n",
      "[2 3 1 3 4 5]\n",
      "[1 2 3 4 7 9 2 6]\n",
      "[[2. 3.]\n",
      " [1. 3.]\n",
      " [4. 5.]]\n",
      "[[0 3 4]\n",
      " [1 4 5]\n",
      " [4 5 7]]\n",
      "18\n",
      "3.0\n",
      "1\n",
      "5\n",
      "2\n",
      "5\n",
      "[['0' '3' '4']\n",
      " ['1' '4' '5']\n",
      " ['4' '5' '7']]\n",
      "[['0' '3' '4']\n",
      " ['1' '4' '5']\n",
      " ['4' '5' '7']]\n",
      "[['0' '3' '4']\n",
      " ['1' '4' '5']\n",
      " ['4' '5' '7']]\n"
     ]
    }
   ],
   "source": [
    "# Some important methods in array\n",
    "\n",
    "\n",
    "# 1. Reshape array -> change diamnesion of array\n",
    "print(np_array.reshape((2,3)))     # [[1 2 3][4 5 6]]    flat array change to 2d array\n",
    "# Note - array size should fit (r,c) otherwise will throw error. eg. 5 elements cannot fit into (2,3) as 2*3=6\n",
    "\n",
    "# 2. Flatten -> make 2d/tensor array flat\n",
    "print(np_2d_int_array.flatten())  # [2 3 1 3 4 5]\n",
    "print(np_mutiDim_array.flatten()) # [1 2 3 4 7 9 2 6]\n",
    "\n",
    "# 3. convert array of one type to another\n",
    "print(np_2d_int_array.astype(float))  #[[2. 3.],[1. 3.],[4. 5.]]\n",
    "print(np_2d_str_array.astype(int))   # [[1 3 4],[4 5 0],[4 5 7]]\n",
    "\n",
    "# 4. Mathmatical operations like Sum, Mean, Max, Min, index of Min/Max\n# Note: we can use axis=0 or axis=1 to change how operation will work (rowwise/colwise)
\n",
    "print(np_2d_int_array.sum())  # 18 -> sum of al elements in array (any diamension)\n",
    "print(np_2d_int_array.mean()) # 3.0 -> avarage/mean of all elemets (any diamension)\n",
    "print(np_2d_int_array.min())  # min in array\n",
    "print(np_2d_int_array.max()) # max in array\n",
    "print(np_2d_int_array.argmin()) # index of min element in array\n",
    "print(np_2d_int_array.argmax()) # index of max element in array\n",
    "\n",
    "# 5.Sort\n",
    "np_2d_str_array.sort()  # sort array (any diamension) -> by default row wise\n",
    "print(np_2d_str_array) # each row is sorted\n",
    "\n",
    "np_2d_str_array.sort(axis=0) # column wise sorting\n",
    "print(np_2d_str_array)  # each column is sorted\n",
    "#Note: To understand sorting in reverse need to understamd slicing (Next chapter)\n",
    "\n",
    "# 6.Copy\n",
    "copy_array=np_2d_str_array.copy()\n",
    "print(copy_array)\n",
    "\n",
    "\n"
   ]
  }
 ],
 "metadata": {
  "kernelspec": {
   "display_name": "numEnv",
   "language": "python",
   "name": "python3"
  },
  "language_info": {
   "codemirror_mode": {
    "name": "ipython",
    "version": 3
   },
   "file_extension": ".py",
   "mimetype": "text/x-python",
   "name": "python",
   "nbconvert_exporter": "python",
   "pygments_lexer": "ipython3",
   "version": "3.14.0"
  }
 },
 "nbformat": 4,
 "nbformat_minor": 5
}
