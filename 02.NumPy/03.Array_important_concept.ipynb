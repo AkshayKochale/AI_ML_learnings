{
 "cells": [
  {
   "cell_type": "markdown",
   "id": "96cd7a77",
   "metadata": {},
   "source": [
    "# Some of the important concept regarding numpy array"
   ]
  },
  {
   "cell_type": "code",
   "execution_count": 14,
   "id": "b0e27f98",
   "metadata": {},
   "outputs": [],
   "source": [
    "import numpy as np\n",
    "\n",
    "\n",
    "arr = np.array([10, 20, 30, 40, 50])\n",
    "\n",
    "arr2d = np.array([[1, 2, 3], [4, 5, 6]])\n",
    "\n",
    "\n",
    "a = np.array([1, 2, 3])\n",
    "b = np.array([4, 5, 6])\n",
    "\n",
    "\n"
   ]
  },
  {
   "cell_type": "code",
   "execution_count": 15,
   "id": "34bd9c3f",
   "metadata": {},
   "outputs": [
    {
     "name": "stdout",
     "output_type": "stream",
     "text": [
      "10\n",
      "50\n",
      "2\n",
      "6\n"
     ]
    }
   ],
   "source": [
    "\n",
    "# 1. INDEXING IN NUMPY -Indexing means accessing individual elements of an array.\n",
    "\n",
    "print(arr[0]) # 10\n",
    "print(arr[-1]) # 50 (negative indexing is also supported (-1 to n))\n",
    "\n",
    "print(arr2d[0, 1]) # 2 ( for multidiamnesional array give (r,c))\n",
    "print(arr2d[1,-1]) # 6 (also supports negative index)"
   ]
  },
  {
   "cell_type": "code",
   "execution_count": 16,
   "id": "823b97e2",
   "metadata": {},
   "outputs": [
    {
     "name": "stdout",
     "output_type": "stream",
     "text": [
      "[20 30 40]\n",
      "[10 20 30]\n",
      "[10 30 50]\n",
      "[50 40 30 20 10]\n"
     ]
    }
   ],
   "source": [
    "# 2.SLICING - Slicing lets you extract a portion of an array.\n",
    "\n",
    "# overview -> pass [start:end] in array and will give you elements in that range\n",
    "# end is excluded so if you pass arr[1:4] ,it will give you elements from index (1) to (4-1=3)\n",
    "# if you keep either start or end as empty, it will consider max range is possible on that side which is (0,n-1)\n",
    "# pass third parameter to jump in range \n",
    "\n",
    "print(arr[1:4])   # [20 30 40] \n",
    "print(arr[:3])    # [10 20 30]\n",
    "print(arr[::2])   # [10 30 50]\n",
    "print(arr[::-1])  # [50 40 30 20 10] Used for reversing the array (jump is -1)\n"
   ]
  },
  {
   "cell_type": "code",
   "execution_count": 18,
   "id": "63041128",
   "metadata": {},
   "outputs": [
    {
     "name": "stdout",
     "output_type": "stream",
     "text": [
      "[5 7 9]\n",
      "[-3 -3 -3]\n",
      "[ 4 10 18]\n",
      "[0.25 0.4  0.5 ]\n"
     ]
    }
   ],
   "source": [
    "\n",
    "# 3.Basic Mathematical Functions\n",
    "\n",
    "\n",
    "print(a + b)  # [5 7 9]\n",
    "print(a - b)  # [-3 -3 -3]\n",
    "print(a * b)  # [4 10 18]\n",
    "print(a / b)  # [0.25 0.4  0.5 ]\n",
    "\n"
   ]
  },
  {
   "cell_type": "code",
   "execution_count": 20,
   "id": "a50b0da3",
   "metadata": {},
   "outputs": [
    {
     "name": "stdout",
     "output_type": "stream",
     "text": [
      "[ 0.84147098  0.90929743  0.14112001 -0.7568025 ]\n",
      "[ 0.54030231 -0.41614684 -0.9899925  -0.65364362]\n",
      "[ 1.55740772 -2.18503986 -0.14254654  1.15782128]\n",
      "[ 2.71828183  7.3890561  20.08553692 54.59815003]\n",
      "[0.         0.69314718 1.09861229 1.38629436]\n",
      "[0.         0.30103    0.47712125 0.60205999]\n",
      "[ 1  4  9 16]\n",
      "[1.         1.41421356 1.73205081 2.        ]\n"
     ]
    }
   ],
   "source": [
    "# 4.Other \n",
    "\n",
    "\n",
    "x = np.array([1, 2, 3, 4])\n",
    "\n",
    "print(np.sin(x))       # [0.84147098 0.90929743 0.14112001 -0.7568025]\n",
    "print(np.cos(x))       # [0.54030231 -0.41614684 -0.9899925 -0.65364362]\n",
    "print(np.tan(x))       # [1.55740772 -2.18503986 -0.14254654 1.15782128]\n",
    "\n",
    "print(np.exp(x))       # [2.71828183 7.3890561 20.08553692 54.59815003]\n",
    "print(np.log(x))       # [0. 0.69314718 1.09861229 1.38629436]\n",
    "print(np.log10(x))     # [0. 0.30103 0.47712125 0.60205999]\n",
    "\n",
    "print(np.power(x, 2))  # [1 4 9 16]\n",
    "print(np.sqrt(x))      # [1. 1.41421356 1.73205081 2.]\n",
    " \n"
   ]
  }
 ],
 "metadata": {
  "kernelspec": {
   "display_name": "numEnv",
   "language": "python",
   "name": "python3"
  },
  "language_info": {
   "codemirror_mode": {
    "name": "ipython",
    "version": 3
   },
   "file_extension": ".py",
   "mimetype": "text/x-python",
   "name": "python",
   "nbconvert_exporter": "python",
   "pygments_lexer": "ipython3",
   "version": "3.14.0"
  }
 },
 "nbformat": 4,
 "nbformat_minor": 5
}
