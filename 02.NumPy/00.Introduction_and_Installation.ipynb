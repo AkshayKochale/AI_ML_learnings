{
 "cells": [
  {
   "cell_type": "markdown",
   "id": "96f1caeb",
   "metadata": {},
   "source": [
    "# Introduction\n",
    "<br>\n",
    "\n",
    "## Jupyter Notebook (optional but recommended)\n",
    "<ol>\n",
    "<li> Help to work with python libraries much convinient and easy.</li>\n",
    "<li> Easy to code share and understand line by line execution of code.</li>\n",
    "<li> Has extenstion .ipynb (interactive python notebook).</li>\n",
    "<li> Not actual production ready code, just to understand concepts and ease of learn.</li>\n",
    "<li> Work on json internally -> all code is converted into json and then some excution engine runs it.</li>\n",
    "<li> Mostly each component is called as cell , and each cell can be of type code , markdown and text which depends on which tool you are using like google collab, kaggle, jupyter notebook. underline concept is same</li>\n",
    "\n",
    "</ol>\n",
    "\n",
    "---\n",
    "## NumPy\n",
    "\n",
    "**NumPy** (Numerical Python) is a powerful open-source library in Python used for numerical and scientific computing. It provides support for large, multi-dimensional arrays and matrices, along with a collection of mathematical functions to operate on these arrays efficiently.\n",
    "\n",
    "### Key Features of NumPy:\n",
    "- **N-Dimensional(Tensor) Array Object (`ndarray`)**: Core data structure for storing homogeneous data.\n",
    "- **Broadcasting**: Allows arithmetic operations on arrays of different shapes(diff diamensions).\n",
    "- **Vectorization**: Speeds up operations by avoiding explicit loops.\n",
    "- **Mathematical Functions**: Includes linear algebra, Fourier transforms, statistics, and more.\n",
    "- **Integration**: Works well with other libraries like Pandas, Matplotlib, and SciPy.\n",
    "\n",
    "### Why Use NumPy?\n",
    "- Why not excel - excel has 2D scope where numpy works with any diamension,also operations are optimized(faster)\n",
    "- Faster and more memory-efficient than Python lists,tuple.\n",
    "- Essential for data science, machine learning, and scientific computing.\n",
    "- Forms the foundation for many other Python libraries.\n",
    "- For machine/deep learning matrix are very essential to it make sense to learn lib which performs faster operation on multi dimensional array.\n",
    "\n",
    "\n",
    "###  Requirements\n",
    "Make sure you have the following installed:\n",
    "- Python 3.7+\n",
    "- NumPy\n",
    "- Jupyter Notebook (or JupyterLab)\n",
    "\n",
    "You can install the dependencies using pip:\n",
    "\n",
    "- pip install numpy notebook    # direct installation\n",
    "\n",
    " or\n",
    "\n",
    "- pip install -r requirements.txt    # install listf from file\n",
    "\n",
    "\n",
    "\n",
    "\n",
    "\n",
    "\n",
    "\n"
   ]
  }
 ],
 "metadata": {
  "kernelspec": {
   "display_name": "numEnv",
   "language": "python",
   "name": "python3"
  },
  "language_info": {
   "codemirror_mode": {
    "name": "ipython",
    "version": 3
   },
   "file_extension": ".py",
   "mimetype": "text/x-python",
   "name": "python",
   "nbconvert_exporter": "python",
   "pygments_lexer": "ipython3",
   "version": "3.14.0"
  }
 },
 "nbformat": 4,
 "nbformat_minor": 5
}
