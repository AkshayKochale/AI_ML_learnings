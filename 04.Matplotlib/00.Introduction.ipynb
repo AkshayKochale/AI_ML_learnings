{
 "cells": [
  {
   "cell_type": "markdown",
   "id": "dc8aa5c9",
   "metadata": {},
   "source": [
    "# Introduction\n",
    "\n",
    "\n",
    "**Matplotlib** is a popular Python library used for data visualization. It provides a flexible way to create a wide variety of plots, including line graphs, bar charts, scatter plots, and more.\n",
    "\n",
    "## Key Features\n",
    "- Simple and intuitive syntax for creating plots\n",
    "- Highly customizable visualizations\n",
    "- Integration with NumPy and Pandas\n",
    "- Support for multiple output formats (PNG, PDF, SVG, etc.)\n",
    "\n",
    "\n",
    "## Note \n",
    "- No need to learn library in depth, just understand how to plot simple and most used graphs/visualization format.This is only use for learning and understanding data.\n",
    "\n",
    "\n",
    "# Install\n",
    " \n",
    " - pip install matplotlib"
   ]
  }
 ],
 "metadata": {
  "kernelspec": {
   "display_name": "matEnv",
   "language": "python",
   "name": "python3"
  },
  "language_info": {
   "name": "python",
   "version": "3.14.0"
  }
 },
 "nbformat": 4,
 "nbformat_minor": 5
}
