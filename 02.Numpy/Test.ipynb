{
 "cells": [
  {
   "cell_type": "markdown",
   "id": "16ce0f51-29ca-42ec-a090-764703384009",
   "metadata": {},
   "source": [
    "# This is my first juypter lab code"
   ]
  },
  {
   "cell_type": "code",
   "execution_count": null,
   "id": "c110719b",
   "metadata": {},
   "outputs": [
    {
     "name": "stdout",
     "output_type": "stream",
     "text": [
      "hello world\n"
     ]
    }
   ],
   "source": [
    "print(\"hello world\")"
   ]
  },
  {
   "cell_type": "code",
   "execution_count": null,
   "id": "5599e612-4009-44c4-99cf-154510c4e904",
   "metadata": {},
   "outputs": [
    {
     "name": "stdout",
     "output_type": "stream",
     "text": [
      "val is : Akshay\n"
     ]
    }
   ],
   "source": [
    "def display(val):\n",
    "    print(\"val is : \"+val)\n",
    "\n",
    "display(\"Akshay\")    "
   ]
  },
  {
   "cell_type": "code",
   "execution_count": null,
   "id": "7186e919-e427-49e1-b11c-93413903f716",
   "metadata": {},
   "outputs": [],
   "source": []
  }
 ],
 "metadata": {
  "kernelspec": {
   "display_name": "Python 3 (ipykernel)",
   "language": "python",
   "name": "python3"
  },
  "language_info": {
   "codemirror_mode": {
    "name": "ipython",
    "version": 3
   },
   "file_extension": ".py",
   "mimetype": "text/x-python",
   "name": "python",
   "nbconvert_exporter": "python",
   "pygments_lexer": "ipython3",
   "version": "3.9.6"
  }
 },
 "nbformat": 4,
 "nbformat_minor": 5
}
